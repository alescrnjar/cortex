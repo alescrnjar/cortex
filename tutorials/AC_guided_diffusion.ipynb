{
 "cells": [
  {
   "cell_type": "markdown",
   "metadata": {},
   "source": [
    "## Protein Design with Guided Discrete Diffusion\n",
    "\n",
    "In this tutorial we will demonstrate how to use `cortex` to optimize discrete sequences with the LaMBO-2 algorithm."
   ]
  },
  {
   "cell_type": "code",
   "execution_count": 1,
   "metadata": {},
   "outputs": [
    {
     "name": "stderr",
     "output_type": "stream",
     "text": [
      "/tmp/ipykernel_12971/1122474236.py:6: UserWarning: \n",
      "The version_base parameter is not specified.\n",
      "Please specify a compatability version level, or None.\n",
      "Will assume defaults for version 1.1\n",
      "  with hydra.initialize(config_path=\"./hydra\"):\n",
      "/home/alessandro/Documents/LocalColabFold_Files/localcolabfold/colabfold-conda/lib/python3.10/site-packages/hydra/_internal/defaults_list.py:251: UserWarning: In '4_guided_diffusion': Defaults list is missing `_self_`. See https://hydra.cc/docs/1.2/upgrades/1.0_to_1.1/default_composition_order for more information\n",
      "  warnings.warn(msg, UserWarning)\n",
      "Failed to detect the name of this notebook, you can set it manually with the WANDB_NOTEBOOK_NAME environment variable to enable code saving.\n",
      "\u001b[34m\u001b[1mwandb\u001b[0m: Currently logged in as: \u001b[33ma-crnjar\u001b[0m (\u001b[33macrnjar\u001b[0m). Use \u001b[1m`wandb login --relogin`\u001b[0m to force relogin\n"
     ]
    },
    {
     "data": {
      "text/html": [
       "Tracking run with wandb version 0.15.8"
      ],
      "text/plain": [
       "<IPython.core.display.HTML object>"
      ]
     },
     "metadata": {},
     "output_type": "display_data"
    },
    {
     "data": {
      "text/html": [
       "W&B syncing is set to <code>`offline`<code> in this directory.  <br/>Run <code>`wandb online`<code> or set <code>WANDB_MODE=online<code> to enable cloud syncing."
      ],
      "text/plain": [
       "<IPython.core.display.HTML object>"
      ]
     },
     "metadata": {},
     "output_type": "display_data"
    }
   ],
   "source": [
    "# initialize config and wandb\n",
    "from omegaconf import OmegaConf\n",
    "import hydra\n",
    "from cortex.logging import wandb_setup\n",
    "\n",
    "with hydra.initialize(config_path=\"./hydra\"):\n",
    "    cfg = hydra.compose(config_name=\"4_guided_diffusion\")\n",
    "    OmegaConf.set_struct(cfg, False)\n",
    "\n",
    "wandb_setup(cfg)"
   ]
  },
  {
   "cell_type": "markdown",
   "metadata": {},
   "source": [
    "### Set up initial solution for optimization problem\n",
    "\n",
    "In this example we will take a green fluorescent protein (GFP) with median fluorescence and optimize it for higher fluorescence."
   ]
  },
  {
   "cell_type": "code",
   "execution_count": 2,
   "metadata": {},
   "outputs": [],
   "source": [
    "\"\"\"\n",
    "from cortex.data.dataset import TAPEFluorescenceDataset\n",
    "# _data_frame_dataset.py  __init__.py  __pycache__  _rfp_dataset.py  _tape_fluorescence.py  _tape_stability.py  _transformed_dataset.py\n",
    "# /home/alessandro/Documents/LocalColabFold_Files/localcolabfold/colabfold-conda/lib/python3.10/site-packages/cortex/data/dataset\n",
    "\n",
    "dataset = TAPEFluorescenceDataset(\n",
    "    root='./.cache',\n",
    "    download=True,\n",
    "    train=True,\n",
    ")\n",
    "\"\"\"\n",
    "\n",
    "import acgt_dataset\n",
    "#dataset=acgt_dataset.ACGTDataset(root='./.cache',train=True)\n",
    "dataset=acgt_dataset.ACGTDataset(root='.',train=True)\n",
    "##dataset=acgt_dataset.ACGTDataset()\n",
    "\n",
    "med_idx = len(dataset) // 2\n",
    "\n",
    "init_df = dataset._data.sort_values(\"y\").iloc[med_idx : med_idx + 1]\n",
    "init_df = init_df.sample(n=cfg.optim.max_num_solutions, replace=True)"
   ]
  },
  {
   "cell_type": "code",
   "execution_count": 3,
   "metadata": {},
   "outputs": [
    {
     "name": "stdout",
     "output_type": "stream",
     "text": [
      "<acgt_dataset.ACGTDataset object at 0x7f8d59df9c30>\n",
      "20000\n",
      "Index(['Unnamed: 0', 'Sequence', 'y', 'tokenized_seq'], dtype='object')\n",
      "0        [-0.839]\n",
      "1        [-0.269]\n",
      "2        [-0.441]\n",
      "3        [-1.185]\n",
      "4         [-0.48]\n",
      "           ...   \n",
      "19995     [0.189]\n",
      "19996     [0.072]\n",
      "19997    [-0.794]\n",
      "19998     [1.107]\n",
      "19999     [0.562]\n",
      "Name: y, Length: 20000, dtype: object\n"
     ]
    }
   ],
   "source": [
    "print(dataset)\n",
    "print(len(dataset))\n",
    "#print(dir(dataset))\n",
    "print(dataset._data.keys())\n",
    "print(dataset._data['y'])\n"
   ]
  },
  {
   "cell_type": "code",
   "execution_count": 5,
   "metadata": {},
   "outputs": [],
   "source": [
    "\n",
    "med_idx = len(dataset) // 2\n",
    "\n",
    "init_df = dataset._data.sort_values(\"y\").iloc[med_idx : med_idx + 1]\n",
    "init_df = init_df.sample(n=cfg.optim.max_num_solutions, replace=True)"
   ]
  },
  {
   "cell_type": "markdown",
   "metadata": {},
   "source": [
    "### Instantiate model"
   ]
  },
  {
   "cell_type": "code",
   "execution_count": 6,
   "metadata": {},
   "outputs": [
    {
     "name": "stderr",
     "output_type": "stream",
     "text": [
      "Global seed set to 42\n",
      "/home/alessandro/Documents/LocalColabFold_Files/localcolabfold/colabfold-conda/lib/python3.10/site-packages/torchtext/transforms.py:4: UserWarning: \n",
      "/!\\ IMPORTANT WARNING ABOUT TORCHTEXT STATUS /!\\ \n",
      "Torchtext is deprecated and the last released version will be 0.18 (this one). You can silence this warning by calling the following at the beginnign of your scripts: `import torchtext; torchtext.disable_torchtext_deprecation_warning()`\n",
      "  warnings.warn(torchtext._TORCHTEXT_DEPRECATION_MSG)\n",
      "/home/alessandro/Documents/LocalColabFold_Files/localcolabfold/colabfold-conda/lib/python3.10/site-packages/torchtext/data/__init__.py:4: UserWarning: \n",
      "/!\\ IMPORTANT WARNING ABOUT TORCHTEXT STATUS /!\\ \n",
      "Torchtext is deprecated and the last released version will be 0.18 (this one). You can silence this warning by calling the following at the beginnign of your scripts: `import torchtext; torchtext.disable_torchtext_deprecation_warning()`\n",
      "  warnings.warn(torchtext._TORCHTEXT_DEPRECATION_MSG)\n",
      "/home/alessandro/Documents/LocalColabFold_Files/localcolabfold/colabfold-conda/lib/python3.10/site-packages/torchtext/utils.py:4: UserWarning: \n",
      "/!\\ IMPORTANT WARNING ABOUT TORCHTEXT STATUS /!\\ \n",
      "Torchtext is deprecated and the last released version will be 0.18 (this one). You can silence this warning by calling the following at the beginnign of your scripts: `import torchtext; torchtext.disable_torchtext_deprecation_warning()`\n",
      "  warnings.warn(torchtext._TORCHTEXT_DEPRECATION_MSG)\n",
      "/home/alessandro/Documents/LocalColabFold_Files/localcolabfold/colabfold-conda/lib/python3.10/site-packages/torchtext/vocab/__init__.py:4: UserWarning: \n",
      "/!\\ IMPORTANT WARNING ABOUT TORCHTEXT STATUS /!\\ \n",
      "Torchtext is deprecated and the last released version will be 0.18 (this one). You can silence this warning by calling the following at the beginnign of your scripts: `import torchtext; torchtext.disable_torchtext_deprecation_warning()`\n",
      "  warnings.warn(torchtext._TORCHTEXT_DEPRECATION_MSG)\n",
      "/home/alessandro/Documents/LocalColabFold_Files/localcolabfold/colabfold-conda/lib/python3.10/site-packages/torchtext/functional.py:4: UserWarning: \n",
      "/!\\ IMPORTANT WARNING ABOUT TORCHTEXT STATUS /!\\ \n",
      "Torchtext is deprecated and the last released version will be 0.18 (this one). You can silence this warning by calling the following at the beginnign of your scripts: `import torchtext; torchtext.disable_torchtext_deprecation_warning()`\n",
      "  warnings.warn(torchtext._TORCHTEXT_DEPRECATION_MSG)\n"
     ]
    },
    {
     "name": "stdout",
     "output_type": "stream",
     "text": [
      "using vocab from /home/alessandro/Documents/LocalColabFold_Files/localcolabfold/colabfold-conda/lib/python3.10/site-packages/cortex/assets/protein_seq_tokenizer_32/vocab.txt\n",
      "using vocab from /home/alessandro/Documents/LocalColabFold_Files/localcolabfold/colabfold-conda/lib/python3.10/site-packages/cortex/assets/protein_seq_tokenizer_32/vocab.txt\n"
     ]
    },
    {
     "name": "stderr",
     "output_type": "stream",
     "text": [
      "/home/alessandro/Documents/LocalColabFold_Files/localcolabfold/colabfold-conda/lib/python3.10/site-packages/torch/utils/data/dataset.py:472: UserWarning: Length of split at index 1 is 0. This might result in an empty dataset.\n",
      "  warnings.warn(\n",
      "/home/alessandro/Documents/LocalColabFold_Files/localcolabfold/colabfold-conda/lib/python3.10/multiprocessing/popen_fork.py:66: RuntimeWarning: os.fork() was called. os.fork() is incompatible with multithreaded code, and JAX is multithreaded, so this will likely lead to a deadlock.\n",
      "  self.pid = os.fork()\n",
      "GPU available: True (cuda), used: False\n",
      "TPU available: False, using: 0 TPU cores\n",
      "IPU available: False, using: 0 IPUs\n",
      "HPU available: False, using: 0 HPUs\n",
      "/home/alessandro/Documents/LocalColabFold_Files/localcolabfold/colabfold-conda/lib/python3.10/site-packages/lightning/pytorch/trainer/setup.py:176: PossibleUserWarning: GPU available but not used. Set `accelerator` and `devices` using `Trainer(accelerator='gpu', devices=1)`.\n",
      "  rank_zero_warn(\n"
     ]
    }
   ],
   "source": [
    "import lightning as L\n",
    "\n",
    "# set random seed\n",
    "L.seed_everything(seed=cfg.random_seed, workers=True)\n",
    "\n",
    "# instantiate model\n",
    "model = hydra.utils.instantiate(cfg.tree)\n",
    "model.build_tree(cfg, skip_task_setup=False)\n",
    "\n",
    "# instantiate trainer, set logger\n",
    "trainer = hydra.utils.instantiate(cfg.trainer)"
   ]
  },
  {
   "cell_type": "markdown",
   "metadata": {},
   "source": [
    "### (Optional) fit a model to data\n",
    "\n",
    "If you want to run through this example quickly you can skip this step, in which case the model will be initialized with random parameters."
   ]
  },
  {
   "cell_type": "code",
   "execution_count": 7,
   "metadata": {},
   "outputs": [
    {
     "name": "stderr",
     "output_type": "stream",
     "text": [
      "2024-06-25 11:20:01.689440: W tensorflow/compiler/tf2tensorrt/utils/py_utils.cc:38] TF-TRT Warning: Could not find TensorRT\n",
      "\n",
      "  | Name         | Type       | Params\n",
      "--------------------------------------------\n",
      "0 | root_nodes   | ModuleDict | 21.8 K\n",
      "1 | branch_nodes | ModuleDict | 256   \n",
      "2 | leaf_nodes   | ModuleDict | 1.1 K \n",
      "3 | trunk_node   | SumTrunk   | 0     \n",
      "--------------------------------------------\n",
      "23.1 K    Trainable params\n",
      "0         Non-trainable params\n",
      "23.1 K    Total params\n",
      "0.093     Total estimated model params size (MB)\n"
     ]
    },
    {
     "data": {
      "application/vnd.jupyter.widget-view+json": {
       "model_id": "d416fb25463b42509ed2affd9b4464dc",
       "version_major": 2,
       "version_minor": 0
      },
      "text/plain": [
       "Sanity Checking: 0it [00:00, ?it/s]"
      ]
     },
     "metadata": {},
     "output_type": "display_data"
    },
    {
     "data": {
      "application/vnd.jupyter.widget-view+json": {
       "model_id": "5a5bed88d87743d0ad072d5b02e8b069",
       "version_major": 2,
       "version_minor": 0
      },
      "text/plain": [
       "Training: 0it [00:00, ?it/s]"
      ]
     },
     "metadata": {},
     "output_type": "display_data"
    },
    {
     "name": "stderr",
     "output_type": "stream",
     "text": [
      "/home/alessandro/Documents/LocalColabFold_Files/localcolabfold/colabfold-conda/lib/python3.10/multiprocessing/popen_fork.py:66: RuntimeWarning: os.fork() was called. os.fork() is incompatible with multithreaded code, and JAX is multithreaded, so this will likely lead to a deadlock.\n",
      "  self.pid = os.fork()\n"
     ]
    },
    {
     "data": {
      "application/vnd.jupyter.widget-view+json": {
       "model_id": "e31d68e361234e61aae1eefc8501045a",
       "version_major": 2,
       "version_minor": 0
      },
      "text/plain": [
       "Validation: 0it [00:00, ?it/s]"
      ]
     },
     "metadata": {},
     "output_type": "display_data"
    },
    {
     "name": "stderr",
     "output_type": "stream",
     "text": [
      "/home/alessandro/Documents/LocalColabFold_Files/localcolabfold/colabfold-conda/lib/python3.10/multiprocessing/popen_fork.py:66: RuntimeWarning: os.fork() was called. os.fork() is incompatible with multithreaded code, and JAX is multithreaded, so this will likely lead to a deadlock.\n",
      "  self.pid = os.fork()\n",
      "/home/alessandro/Documents/LocalColabFold_Files/localcolabfold/colabfold-conda/lib/python3.10/multiprocessing/popen_fork.py:66: RuntimeWarning: os.fork() was called. os.fork() is incompatible with multithreaded code, and JAX is multithreaded, so this will likely lead to a deadlock.\n",
      "  self.pid = os.fork()\n"
     ]
    },
    {
     "data": {
      "application/vnd.jupyter.widget-view+json": {
       "model_id": "922a2b63d8404a75b72ec0cc2ae9637b",
       "version_major": 2,
       "version_minor": 0
      },
      "text/plain": [
       "Validation: 0it [00:00, ?it/s]"
      ]
     },
     "metadata": {},
     "output_type": "display_data"
    },
    {
     "name": "stderr",
     "output_type": "stream",
     "text": [
      "`Trainer.fit` stopped: `max_epochs=2` reached.\n"
     ]
    }
   ],
   "source": [
    "trainer.fit(\n",
    "    model,\n",
    "    train_dataloaders=model.get_dataloader(split=\"train\"),\n",
    "    val_dataloaders=model.get_dataloader(split=\"val\"),\n",
    ")"
   ]
  },
  {
   "cell_type": "markdown",
   "metadata": {},
   "source": [
    "### Set up guidance objective\n",
    "\n",
    "We can optimizer for any value function that operates on the activations of the model.\n",
    "In this example we will use Log Noisy Expected Improvement as the value function."
   ]
  },
  {
   "cell_type": "code",
   "execution_count": 8,
   "metadata": {},
   "outputs": [
    {
     "name": "stdout",
     "output_type": "stream",
     "text": [
      "==== predicting baseline point objective values ====\n",
      "tensor([[3.2559]])\n",
      "reference point: tensor([2.9303])\n"
     ]
    }
   ],
   "source": [
    "# construct guidance objective\n",
    "initial_solution = init_df[\"tokenized_seq\"].values\n",
    "acq_fn_runtime_kwargs = hydra.utils.call(\n",
    "    cfg.guidance_objective.runtime_kwargs, model=model, candidate_points=initial_solution\n",
    ")\n",
    "acq_fn = hydra.utils.instantiate(cfg.guidance_objective.static_kwargs, **acq_fn_runtime_kwargs)"
   ]
  },
  {
   "cell_type": "markdown",
   "metadata": {},
   "source": [
    "### Set up optimization constraints\n",
    "\n",
    "Typically we only want to change certain positions in the sequence.\n",
    "You can specify your own custom constraints by changing `is_mutable`.\n",
    "In this example `is_mutable` simply excludes utility tokens."
   ]
  },
  {
   "cell_type": "code",
   "execution_count": 9,
   "metadata": {},
   "outputs": [
    {
     "data": {
      "text/plain": [
       "tensor([[ True,  True,  True,  ..., False, False, False],\n",
       "        [ True,  True,  True,  ..., False, False, False],\n",
       "        [ True,  True,  True,  ..., False, False, False],\n",
       "        ...,\n",
       "        [ True,  True,  True,  ..., False, False, False],\n",
       "        [ True,  True,  True,  ..., False, False, False],\n",
       "        [ True,  True,  True,  ..., False, False, False]])"
      ]
     },
     "execution_count": 9,
     "metadata": {},
     "output_type": "execute_result"
    }
   ],
   "source": [
    "tokenizer_transform = model.root_nodes[\"protein_seq\"].eval_transform\n",
    "tokenizer = tokenizer_transform[0].tokenizer\n",
    "\n",
    "tok_idxs = tokenizer_transform(initial_solution)\n",
    "is_mutable = tokenizer.get_corruptible_mask(tok_idxs)\n",
    "is_mutable"
   ]
  },
  {
   "cell_type": "markdown",
   "metadata": {},
   "source": [
    "### Score initial solution\n",
    "\n",
    "Check the initial objective value for comparison later"
   ]
  },
  {
   "cell_type": "code",
   "execution_count": 10,
   "metadata": {},
   "outputs": [
    {
     "name": "stdout",
     "output_type": "stream",
     "text": [
      "tensor([-14.0473, -14.0473, -14.0473, -14.0473, -14.0473, -14.0473, -14.0473,\n",
      "        -14.0473, -14.0473, -14.0473, -14.0473, -14.0473, -14.0473, -14.0473,\n",
      "        -14.0473, -14.0473])\n",
      "tensor([[[3.2559],\n",
      "         [3.2559],\n",
      "         [3.2559],\n",
      "         [3.2559],\n",
      "         [3.2559],\n",
      "         [3.2559],\n",
      "         [3.2559],\n",
      "         [3.2559],\n",
      "         [3.2559],\n",
      "         [3.2559],\n",
      "         [3.2559],\n",
      "         [3.2559],\n",
      "         [3.2559],\n",
      "         [3.2559],\n",
      "         [3.2559],\n",
      "         [3.2559]]])\n"
     ]
    }
   ],
   "source": [
    "import torch\n",
    "with torch.inference_mode():\n",
    "    tree_output = model.call_from_str_array(initial_solution, corrupt_frac=0.0)\n",
    "    init_obj_vals = acq_fn.get_objective_vals(tree_output)\n",
    "    init_acq_vals = acq_fn(tree_output)\n",
    "print(init_acq_vals)\n",
    "print(init_obj_vals)"
   ]
  },
  {
   "cell_type": "markdown",
   "metadata": {},
   "source": [
    "### Run optimization"
   ]
  },
  {
   "cell_type": "code",
   "execution_count": 11,
   "metadata": {},
   "outputs": [
    {
     "name": "stdout",
     "output_type": "stream",
     "text": [
      "tensor([-14.0473, -14.0473, -14.0473, -14.0473, -14.0473, -14.0473, -14.0473,\n",
      "        -14.0473, -14.0473, -14.0473, -14.0473, -14.0473, -14.0473, -14.0473,\n",
      "        -14.0473, -14.0473])\n",
      "==== LaMBO-2 Step 1 ====\n",
      "Optimizing 16 solutions\n",
      "Selected edit positions: tensor([[ 49,  51,  52, 116, 119, 173, 174, 176],\n",
      "        [ 49,  51,  52, 116, 119, 173, 174, 176],\n",
      "        [ 49,  51,  52, 116, 119, 173, 174, 176],\n",
      "        [ 49,  51,  52, 116, 119, 173, 174, 176],\n",
      "        [ 49,  51,  52, 116, 119, 173, 174, 176],\n",
      "        [ 49,  51,  52, 116, 119, 173, 174, 176],\n",
      "        [ 49,  51,  52, 116, 119, 173, 174, 176],\n",
      "        [ 49,  51,  52, 116, 119, 173, 174, 176],\n",
      "        [ 49,  51,  52, 116, 119, 173, 174, 176],\n",
      "        [ 49,  51,  52, 116, 119, 173, 174, 176],\n",
      "        [ 49,  51,  52, 116, 119, 173, 174, 176],\n",
      "        [ 49,  51,  52, 116, 119, 173, 174, 176],\n",
      "        [ 49,  51,  52, 116, 119, 173, 174, 176],\n",
      "        [ 49,  51,  52, 116, 119, 173, 174, 176],\n",
      "        [ 49,  51,  52, 116, 119, 173, 174, 176],\n",
      "        [ 49,  51,  52, 116, 119, 173, 174, 176]])\n",
      "\n",
      "\n",
      "Feasible samples: 16/16\n",
      "-6.22559928894043 4.695502281188965 6.260666847229004 6.8209151322662365e-06 0.24964749813079834\n",
      "Feasible samples: 16/16\n",
      "-6.22559928894043 4.133810043334961 5.511569499969482 0.0005317218019627035 0.2542215883731842\n",
      "Feasible samples: 16/16\n",
      "-6.22559928894043 3.834390640258789 5.1118645668029785 0.001968278083950281 0.26095718145370483\n",
      "Feasible samples: 16/16\n",
      "-6.199089050292969 3.6322546005249023 4.841617107391357 0.004167996812611818 0.2689498960971832\n",
      "==== LaMBO-2 Step 2 ====\n",
      "Optimizing 16 solutions\n",
      "Selected edit positions: tensor([[ 15,  25,  65,  83, 149, 151, 157, 229],\n",
      "        [ 24,  54,  80, 103, 143, 161, 165, 208],\n",
      "        [ 12,  44,  80,  93, 105, 151, 156, 205],\n",
      "        [ 16,  23,  54,  57,  63, 139, 141, 200],\n",
      "        [  2,  57, 101, 104, 122, 164, 206, 224],\n",
      "        [ 23,  33,  38,  67,  72,  75,  82, 165],\n",
      "        [ 19,  44, 108, 135, 145, 161, 173, 197],\n",
      "        [ 11,  38, 123, 129, 164, 166, 190, 196],\n",
      "        [ 19,  22,  56, 103, 105, 107, 119, 146],\n",
      "        [ 27,  73,  89, 102, 114, 132, 157, 211],\n",
      "        [  7,  29,  52,  67,  91, 106, 114, 161],\n",
      "        [  8,  17,  19,  23,  25, 117, 183, 189],\n",
      "        [ 69, 117, 121, 135, 148, 158, 197, 206],\n",
      "        [ 16, 114, 116, 130, 158, 162, 202, 213],\n",
      "        [  0,  67, 125, 131, 191, 205, 213, 216],\n",
      "        [ 29,  60, 111, 130, 149, 168, 184, 219]])\n",
      "\n",
      "\n",
      "Feasible samples: 16/16\n",
      "-6.192019939422607 4.401843070983887 5.86911678314209 2.3198477720143273e-05 0.33127105236053467\n",
      "Feasible samples: 16/16\n",
      "-6.192019939422607 4.052654266357422 5.403120040893555 0.0012571673141792417 0.33023780584335327\n",
      "Feasible samples: 16/16\n",
      "-6.1638641357421875 3.831448793411255 5.107136249542236 0.0043856194242835045 0.3306901156902313\n",
      "Feasible samples: 16/16\n",
      "-6.147095680236816 3.6682956218719482 4.888237953186035 0.008468902669847012 0.3323727548122406\n",
      "==== LaMBO-2 Step 3 ====\n",
      "Optimizing 16 solutions\n",
      "Selected edit positions: tensor([[  2, 127, 130, 142, 145, 182, 207, 221],\n",
      "        [  5,   6,  30,  68, 116, 141, 148, 181],\n",
      "        [ 14, 104, 107, 140, 149, 171, 219, 225],\n",
      "        [ 21,  52,  80,  98, 101, 111, 202, 228],\n",
      "        [  0,  11,  49,  77, 104, 121, 158, 183],\n",
      "        [  3,   4,  21,  71,  89, 128, 130, 142],\n",
      "        [  8,  17,  26,  98, 111, 140, 165, 214],\n",
      "        [  9,  33,  46,  54, 128, 162, 168, 207],\n",
      "        [ 68,  87, 129, 136, 162, 183, 197, 205],\n",
      "        [  7,  19,  31,  41,  67,  86,  90, 211],\n",
      "        [  3,  73, 117, 148, 175, 188, 204, 223],\n",
      "        [ 41,  43,  56, 104, 120, 171, 186, 191],\n",
      "        [ 82,  91, 138, 143, 144, 146, 164, 167],\n",
      "        [ 31,  36,  40,  43,  70,  93, 142, 227],\n",
      "        [  6,  23,  46,  52,  78,  96, 149, 188],\n",
      "        [  8,  27,  70,  82, 125, 128, 167, 178]])\n",
      "\n",
      "\n",
      "Feasible samples: 16/16\n",
      "-6.060619831085205 4.149855136871338 5.533136367797852 1.1268528396612965e-05 0.31504303216934204\n",
      "Feasible samples: 16/16\n",
      "-6.060619831085205 3.9758012294769287 5.300570964813232 0.0014927765587344766 0.3220342695713043\n",
      "Feasible samples: 16/16\n",
      "-6.060619831085205 3.8406336307525635 5.119244575500488 0.004800330847501755 0.32778289914131165\n",
      "Feasible samples: 16/16\n",
      "-6.060619831085205 3.7298009395599365 4.97015905380249 0.008727284148335457 0.3326006531715393\n",
      "==== LaMBO-2 Step 4 ====\n",
      "Optimizing 16 solutions\n",
      "Selected edit positions: tensor([[ 14,  59,  78,  87,  90, 114, 187, 197],\n",
      "        [ 21,  73, 115, 142, 178, 183, 225, 227],\n",
      "        [ 47,  59,  69,  75,  91, 130, 161, 221],\n",
      "        [  2,   4,   8,   9,  30, 162, 187, 222],\n",
      "        [ 78,  88,  98, 110, 177, 205, 216, 226],\n",
      "        [ 27,  48,  80, 103, 117, 144, 172, 211],\n",
      "        [  1,   9,  33,  45,  92, 132, 158, 193],\n",
      "        [  7,  19,  54, 146, 152, 189, 213, 228],\n",
      "        [ 10,  44,  75,  79, 142, 145, 152, 182],\n",
      "        [ 11,  25,  67, 101, 107, 108, 120, 137],\n",
      "        [ 27,  59,  60, 115, 121, 144, 151, 201],\n",
      "        [  5,  13,  86,  87, 106, 114, 188, 191],\n",
      "        [ 18,  32,  34,  51, 100, 141, 155, 225],\n",
      "        [ 12,  31, 107, 161, 167, 179, 193, 203],\n",
      "        [  9,  13,  36,  46,  57,  93, 171, 209],\n",
      "        [  0,   5,  20,  56,  84,  88, 158, 175]])\n",
      "\n",
      "\n",
      "Feasible samples: 16/16\n",
      "-5.984231948852539 4.034963607788086 5.379945755004883 1.6420217434642836e-05 0.2417985498905182\n",
      "Feasible samples: 16/16\n",
      "-5.984231948852539 3.86723256111145 5.156121253967285 0.0005667855148203671 0.24277259409427643\n",
      "Feasible samples: 16/16\n",
      "-5.984231948852539 3.734659433364868 4.97885799407959 0.002063712803646922 0.2451978623867035\n",
      "Feasible samples: 16/16\n",
      "-5.984231948852539 3.6249337196350098 4.83185338973999 0.00417484762147069 0.24858759343624115\n",
      "==== LaMBO-2 Step 5 ====\n",
      "Optimizing 16 solutions\n",
      "Selected edit positions: tensor([[ 24, 120, 122, 146, 170, 195, 208, 221],\n",
      "        [ 57,  71, 120, 137, 141, 143, 197, 198],\n",
      "        [ 26,  33,  47, 155, 179, 184, 204, 212],\n",
      "        [ 10,  93, 129, 169, 202, 214, 218, 226],\n",
      "        [ 27,  46,  75, 140, 211, 216, 225, 227],\n",
      "        [ 19,  27,  34,  40,  44, 127, 182, 226],\n",
      "        [ 19,  75,  87, 130, 160, 202, 204, 222],\n",
      "        [  5,  23,  40,  66, 127, 160, 187, 222],\n",
      "        [ 79,  94, 118, 149, 173, 184, 187, 218],\n",
      "        [ 53,  66,  67,  86, 107, 110, 183, 197],\n",
      "        [ 33,  35,  49,  64, 110, 123, 152, 167],\n",
      "        [ 28,  64,  73,  94, 102, 152, 155, 167],\n",
      "        [ 22,  28,  45, 127, 169, 202, 212, 216],\n",
      "        [ 12,  66, 138, 159, 193, 198, 213, 222],\n",
      "        [ 15,  57,  85, 161, 171, 207, 213, 228],\n",
      "        [  9,  25,  28,  35,  46,  73,  77, 218]])\n",
      "\n",
      "\n",
      "Feasible samples: 16/16\n",
      "-5.984231948852539 3.9553592205047607 5.27380895614624 1.0866225238714833e-05 0.25200697779655457\n",
      "Feasible samples: 16/16\n",
      "-5.984231948852539 3.8324034214019775 5.109574317932129 0.0008906640578061342 0.2522507607936859\n",
      "Feasible samples: 16/16\n",
      "-5.984231948852539 3.730228900909424 4.972630977630615 0.0030235617887228727 0.25491124391555786\n",
      "Feasible samples: 16/16\n",
      "-5.984231948852539 3.642771005630493 4.855123043060303 0.005715792067348957 0.2587222754955292\n",
      "==== LaMBO-2 Step 6 ====\n",
      "Optimizing 16 solutions\n",
      "Selected edit positions: tensor([[ 16,  53,  56,  63,  98, 117, 132, 208],\n",
      "        [ 27, 102, 122, 124, 195, 216, 218, 225],\n",
      "        [ 44,  50,  60, 105, 128, 152, 197, 205],\n",
      "        [ 53,  80, 119, 135, 159, 165, 222, 225],\n",
      "        [ 27,  43,  57,  81, 121, 152, 179, 213],\n",
      "        [ 28,  51, 100, 116, 118, 184, 192, 198],\n",
      "        [ 32,  59,  70,  91, 141, 150, 168, 185],\n",
      "        [ 19, 137, 139, 144, 158, 187, 209, 212],\n",
      "        [ 44,  47,  87, 135, 175, 204, 206, 209],\n",
      "        [ 14,  20,  37,  64,  98, 121, 125, 130],\n",
      "        [ 27,  30,  99, 135, 147, 148, 179, 222],\n",
      "        [ 31,  72, 113, 129, 161, 198, 211, 224],\n",
      "        [  2,  18,  19,  32, 147, 149, 173, 217],\n",
      "        [  7,  98, 116, 136, 149, 161, 178, 190],\n",
      "        [  6,   8,  13,  75, 111, 115, 174, 219],\n",
      "        [ 43,  77,  85, 116, 119, 196, 197, 199]])\n",
      "\n",
      "\n",
      "Feasible samples: 16/16\n",
      "-5.984231948852539 4.024051666259766 5.36539888381958 9.914094334817491e-06 0.33160266280174255\n",
      "Feasible samples: 16/16\n",
      "-5.984231948852539 3.889953374862671 5.186100482940674 0.0015112875262275338 0.32839515805244446\n",
      "Feasible samples: 16/16\n",
      "-5.984231948852539 3.779893398284912 5.0382585525512695 0.0047980924136936665 0.325412392616272\n",
      "Feasible samples: 16/16\n",
      "-5.984231948852539 3.6865973472595215 4.912593841552734 0.008607570081949234 0.3235328495502472\n",
      "==== LaMBO-2 Step 7 ====\n",
      "Optimizing 16 solutions\n",
      "Selected edit positions: tensor([[  8,  73, 141, 193, 200, 208, 225, 226],\n",
      "        [  1,  38, 125, 165, 171, 201, 206, 220],\n",
      "        [ 34,  37,  45,  67, 137, 140, 147, 218],\n",
      "        [ 68,  95, 108, 111, 112, 128, 211, 219],\n",
      "        [  4,  47,  54,  86, 141, 147, 152, 210],\n",
      "        [ 46,  61,  85,  98, 128, 140, 174, 209],\n",
      "        [ 52,  69, 103, 118, 151, 165, 178, 185],\n",
      "        [ 39,  62,  80, 101, 111, 122, 173, 177],\n",
      "        [ 51, 112, 128, 176, 181, 197, 225, 228],\n",
      "        [ 29,  71,  76,  89,  90, 107, 116, 212],\n",
      "        [ 28,  53,  54, 113, 124, 185, 208, 220],\n",
      "        [ 43,  44,  66,  69,  87, 144, 159, 227],\n",
      "        [ 10,  22,  50,  57, 141, 193, 200, 204],\n",
      "        [  7,  52, 109, 120, 122, 170, 187, 216],\n",
      "        [  9,  20,  41,  62,  92, 109, 134, 212],\n",
      "        [ 73, 117, 134, 171, 190, 198, 204, 222]])\n",
      "\n",
      "\n",
      "Feasible samples: 16/16\n",
      "-5.820673942565918 3.915769577026367 5.221022605895996 1.0303794624633156e-05 0.18723566830158234\n",
      "Feasible samples: 16/16\n",
      "-5.820673942565918 3.809708833694458 5.079412937164307 0.000596066121943295 0.19049356877803802\n",
      "Feasible samples: 16/16\n",
      "-5.820673942565918 3.7203710079193115 4.959771156311035 0.002170559950172901 0.19489791989326477\n",
      "Feasible samples: 16/16\n",
      "-5.814046859741211 3.643007755279541 4.855919361114502 0.004272614140063524 0.19908873736858368\n",
      "==== LaMBO-2 Step 8 ====\n",
      "Optimizing 16 solutions\n",
      "Selected edit positions: tensor([[ 13,  22,  68,  97, 115, 133, 137, 142],\n",
      "        [  5,   7, 100, 121, 157, 167, 181, 200],\n",
      "        [ 49,  53, 102, 107, 132, 189, 211, 216],\n",
      "        [ 13, 107, 108, 120, 133, 143, 151, 229],\n",
      "        [ 34,  45,  62,  74,  92, 127, 160, 227],\n",
      "        [ 35,  70, 120, 127, 131, 148, 195, 224],\n",
      "        [ 11,  15,  43, 124, 163, 167, 175, 213],\n",
      "        [ 48,  56,  82,  90,  99, 114, 180, 220],\n",
      "        [  7,  68,  69,  86, 158, 167, 172, 209],\n",
      "        [  3,  19,  74, 134, 148, 171, 214, 229],\n",
      "        [ 32,  55,  88, 103, 152, 192, 214, 217],\n",
      "        [  3,  21,  26,  60,  82, 119, 122, 179],\n",
      "        [ 39,  87, 104, 116, 183, 192, 214, 216],\n",
      "        [ 30,  75,  91, 127, 139, 190, 198, 199],\n",
      "        [ 19,  68,  81, 115, 166, 195, 206, 224],\n",
      "        [ 42,  50,  64, 100, 123, 161, 213, 225]])\n",
      "\n",
      "\n",
      "Feasible samples: 16/16\n",
      "-5.741297721862793 3.811495304107666 5.081977844238281 4.736819755635224e-05 0.2827812433242798\n",
      "Feasible samples: 16/16\n",
      "-5.718467712402344 3.7214181423187256 4.961480140686035 0.0012322120601311326 0.2877371609210968\n",
      "Feasible samples: 16/16\n",
      "-5.718467712402344 3.6455230712890625 4.859464645385742 0.0036984235048294067 0.29157164692878723\n",
      "Feasible samples: 16/16\n",
      "-5.681248188018799 3.579192638397217 4.770215034484863 0.006125078536570072 0.2938920259475708\n"
     ]
    }
   ],
   "source": [
    "\n",
    "optimizer = hydra.utils.instantiate(\n",
    "    cfg.optim,\n",
    "    params=tok_idxs,\n",
    "    is_mutable=is_mutable,\n",
    "    model=model,\n",
    "    objective=acq_fn,\n",
    "    constraint_fn=None,\n",
    ")\n",
    "for _ in range(cfg.num_steps):\n",
    "    optimizer.step()\n",
    "new_designs = optimizer.get_best_solutions()"
   ]
  },
  {
   "cell_type": "markdown",
   "metadata": {},
   "source": [
    "### Score final solution\n",
    "\n",
    "Let's see how much we improved the objective value (in this example, the acquisition value)!"
   ]
  },
  {
   "cell_type": "code",
   "execution_count": 12,
   "metadata": {},
   "outputs": [
    {
     "data": {
      "text/plain": [
       "tensor([[[3.2612],\n",
       "         [3.2611],\n",
       "         [3.2612],\n",
       "         [3.2665],\n",
       "         [3.2649],\n",
       "         [3.2643],\n",
       "         [3.2618],\n",
       "         [3.2632],\n",
       "         [3.2622],\n",
       "         [3.2638],\n",
       "         [3.2636],\n",
       "         [3.2653],\n",
       "         [3.2624],\n",
       "         [3.2666],\n",
       "         [3.2630],\n",
       "         [3.2654]]])"
      ]
     },
     "execution_count": 12,
     "metadata": {},
     "output_type": "execute_result"
    }
   ],
   "source": [
    "with torch.inference_mode():\n",
    "    tree_output = model.call_from_str_array(new_designs[\"protein_seq\"].values, corrupt_frac=0.0)\n",
    "    final_obj_vals = acq_fn.get_objective_vals(tree_output)\n",
    "final_obj_vals"
   ]
  },
  {
   "cell_type": "code",
   "execution_count": 13,
   "metadata": {},
   "outputs": [
    {
     "data": {
      "text/plain": [
       "<matplotlib.legend.Legend at 0x7f8c49976a70>"
      ]
     },
     "execution_count": 13,
     "metadata": {},
     "output_type": "execute_result"
    },
    {
     "data": {
      "image/png": "[encoded data removed]",
      "text/plain": [
       "<Figure size 640x480 with 1 Axes>"
      ]
     },
     "metadata": {},
     "output_type": "display_data"
    }
   ],
   "source": [
    "history = optimizer._buffer\n",
    "\n",
    "med_obj_val = history.groupby(\"iteration\").obj_val.median()\n",
    "\n",
    "import matplotlib.pyplot as plt\n",
    "import seaborn as sns\n",
    "sns.set_theme(style=\"whitegrid\", font_scale=1.75)\n",
    "\n",
    "plt.plot(med_obj_val)\n",
    "xlim = plt.xlim()\n",
    "plt.hlines(init_acq_vals.median(), *xlim, label=\"Initial Value\", color=\"black\", linestyle=\"--\")\n",
    "plt.xlabel(\"Diffusion Iteration\")\n",
    "plt.ylabel(\"Median Acq. Value\")\n",
    "plt.legend(loc=\"center right\")"
   ]
  },
  {
   "cell_type": "markdown",
   "metadata": {},
   "source": [
    "### Visualize the predicted fluorescence of the new sequences"
   ]
  },
  {
   "cell_type": "code",
   "execution_count": 15,
   "metadata": {},
   "outputs": [
    {
     "data": {
      "text/plain": [
       "<matplotlib.legend.Legend at 0x7f8c3553d330>"
      ]
     },
     "execution_count": 15,
     "metadata": {},
     "output_type": "execute_result"
    },
    {
     "data": {
      "image/png": "[encoded data removed]",
      "text/plain": [
       "<Figure size 640x480 with 1 Axes>"
      ]
     },
     "metadata": {},
     "output_type": "display_data"
    }
   ],
   "source": [
    "sns.kdeplot(final_obj_vals.view(-1), fill=True, alpha=0.5, cut=0)\n",
    "ylim = plt.ylim()\n",
    "plt.vlines(init_obj_vals[0], *ylim, color=\"black\", linestyle=\"--\", label=\"Initial Value\")\n",
    "plt.xlabel(\"Predicted Activity\")\n",
    "plt.legend()"
   ]
  }
 ],
 "metadata": {
  "kernelspec": {
   "display_name": "cortex-public",
   "language": "python",
   "name": "python3"
  },
  "language_info": {
   "codemirror_mode": {
    "name": "ipython",
    "version": 3
   },
   "file_extension": ".py",
   "mimetype": "text/x-python",
   "name": "python",
   "nbconvert_exporter": "python",
   "pygments_lexer": "ipython3",
   "version": "3.10.12"
  }
 },
 "nbformat": 4,
 "nbformat_minor": 2
}
