{
 "cells": [
  {
   "cell_type": "markdown",
   "metadata": {},
   "source": [
    "## Protein Design with Guided Discrete Diffusion\n",
    "\n",
    "In this tutorial we will demonstrate how to use `cortex` to optimize discrete sequences with the LaMBO-2 algorithm."
   ]
  },
  {
   "cell_type": "code",
   "execution_count": 1,
   "metadata": {},
   "outputs": [
    {
     "name": "stderr",
     "output_type": "stream",
     "text": [
      "/tmp/ipykernel_16857/1122474236.py:6: UserWarning: \n",
      "The version_base parameter is not specified.\n",
      "Please specify a compatability version level, or None.\n",
      "Will assume defaults for version 1.1\n",
      "  with hydra.initialize(config_path=\"./hydra\"):\n",
      "/home/alessandro/Documents/LocalColabFold_Files/localcolabfold/colabfold-conda/lib/python3.10/site-packages/hydra/_internal/defaults_list.py:251: UserWarning: In '4_guided_diffusion': Defaults list is missing `_self_`. See https://hydra.cc/docs/1.2/upgrades/1.0_to_1.1/default_composition_order for more information\n",
      "  warnings.warn(msg, UserWarning)\n",
      "Failed to detect the name of this notebook, you can set it manually with the WANDB_NOTEBOOK_NAME environment variable to enable code saving.\n",
      "\u001b[34m\u001b[1mwandb\u001b[0m: Currently logged in as: \u001b[33ma-crnjar\u001b[0m (\u001b[33macrnjar\u001b[0m). Use \u001b[1m`wandb login --relogin`\u001b[0m to force relogin\n"
     ]
    },
    {
     "data": {
      "text/html": [
       "Tracking run with wandb version 0.15.8"
      ],
      "text/plain": [
       "<IPython.core.display.HTML object>"
      ]
     },
     "metadata": {},
     "output_type": "display_data"
    },
    {
     "data": {
      "text/html": [
       "W&B syncing is set to <code>`offline`<code> in this directory.  <br/>Run <code>`wandb online`<code> or set <code>WANDB_MODE=online<code> to enable cloud syncing."
      ],
      "text/plain": [
       "<IPython.core.display.HTML object>"
      ]
     },
     "metadata": {},
     "output_type": "display_data"
    }
   ],
   "source": [
    "# initialize config and wandb\n",
    "from omegaconf import OmegaConf\n",
    "import hydra\n",
    "from cortex.logging import wandb_setup\n",
    "\n",
    "with hydra.initialize(config_path=\"./hydra\"):\n",
    "    cfg = hydra.compose(config_name=\"4_guided_diffusion\")\n",
    "    OmegaConf.set_struct(cfg, False)\n",
    "\n",
    "wandb_setup(cfg)"
   ]
  },
  {
   "cell_type": "markdown",
   "metadata": {},
   "source": [
    "### Set up initial solution for optimization problem\n",
    "\n",
    "In this example we will take a green fluorescent protein (GFP) with median fluorescence and optimize it for higher fluorescence."
   ]
  },
  {
   "cell_type": "code",
   "execution_count": 2,
   "metadata": {},
   "outputs": [],
   "source": [
    "from cortex.data.dataset import TAPEFluorescenceDataset\n",
    "# _data_frame_dataset.py  __init__.py  __pycache__  _rfp_dataset.py  _tape_fluorescence.py  _tape_stability.py  _transformed_dataset.py\n",
    "# /home/alessandro/Documents/LocalColabFold_Files/localcolabfold/colabfold-conda/lib/python3.10/site-packages/cortex/data/dataset\n",
    "\n",
    "dataset = TAPEFluorescenceDataset(\n",
    "    root='./.cache',\n",
    "    download=True,\n",
    "    train=True,\n",
    ")\n",
    "\n",
    "med_idx = len(dataset) // 2\n",
    "\n",
    "init_df = dataset._data.sort_values(\"log_fluorescence\").iloc[med_idx : med_idx + 1]\n",
    "init_df = init_df.sample(n=cfg.optim.max_num_solutions, replace=True)"
   ]
  },
  {
   "cell_type": "code",
   "execution_count": 3,
   "metadata": {},
   "outputs": [
    {
     "name": "stdout",
     "output_type": "stream",
     "text": [
      "<cortex.data.dataset._tape_fluorescence.TAPEFluorescenceDataset object at 0x7fb10c807d90>\n",
      "26808\n",
      "Index(['primary', 'protein_length', 'log_fluorescence', 'num_mutations', 'id',\n",
      "       'tokenized_seq'],\n",
      "      dtype='object')\n",
      "0        3.823701\n",
      "1        3.752084\n",
      "2        3.540156\n",
      "3        3.691572\n",
      "4        3.688143\n",
      "           ...   \n",
      "26803    3.647678\n",
      "26804    3.699169\n",
      "26805    1.435895\n",
      "26806    3.599729\n",
      "26807    3.480179\n",
      "Name: log_fluorescence, Length: 26808, dtype: float64\n"
     ]
    }
   ],
   "source": [
    "print(dataset)\n",
    "print(len(dataset))\n",
    "#print(dir(dataset))\n",
    "print(dataset._data.keys())\n",
    "print(dataset._data['log_fluorescence'])\n"
   ]
  },
  {
   "cell_type": "code",
   "execution_count": 4,
   "metadata": {},
   "outputs": [],
   "source": [
    "\n",
    "med_idx = len(dataset) // 2\n",
    "\n",
    "init_df = dataset._data.sort_values(\"log_fluorescence\").iloc[med_idx : med_idx + 1]\n",
    "init_df = init_df.sample(n=cfg.optim.max_num_solutions, replace=True)"
   ]
  },
  {
   "cell_type": "markdown",
   "metadata": {},
   "source": [
    "### Instantiate model"
   ]
  },
  {
   "cell_type": "code",
   "execution_count": 5,
   "metadata": {},
   "outputs": [
    {
     "name": "stderr",
     "output_type": "stream",
     "text": [
      "Global seed set to 42\n",
      "/home/alessandro/Documents/LocalColabFold_Files/localcolabfold/colabfold-conda/lib/python3.10/site-packages/torchtext/transforms.py:4: UserWarning: \n",
      "/!\\ IMPORTANT WARNING ABOUT TORCHTEXT STATUS /!\\ \n",
      "Torchtext is deprecated and the last released version will be 0.18 (this one). You can silence this warning by calling the following at the beginnign of your scripts: `import torchtext; torchtext.disable_torchtext_deprecation_warning()`\n",
      "  warnings.warn(torchtext._TORCHTEXT_DEPRECATION_MSG)\n",
      "/home/alessandro/Documents/LocalColabFold_Files/localcolabfold/colabfold-conda/lib/python3.10/site-packages/torchtext/data/__init__.py:4: UserWarning: \n",
      "/!\\ IMPORTANT WARNING ABOUT TORCHTEXT STATUS /!\\ \n",
      "Torchtext is deprecated and the last released version will be 0.18 (this one). You can silence this warning by calling the following at the beginnign of your scripts: `import torchtext; torchtext.disable_torchtext_deprecation_warning()`\n",
      "  warnings.warn(torchtext._TORCHTEXT_DEPRECATION_MSG)\n",
      "/home/alessandro/Documents/LocalColabFold_Files/localcolabfold/colabfold-conda/lib/python3.10/site-packages/torchtext/utils.py:4: UserWarning: \n",
      "/!\\ IMPORTANT WARNING ABOUT TORCHTEXT STATUS /!\\ \n",
      "Torchtext is deprecated and the last released version will be 0.18 (this one). You can silence this warning by calling the following at the beginnign of your scripts: `import torchtext; torchtext.disable_torchtext_deprecation_warning()`\n",
      "  warnings.warn(torchtext._TORCHTEXT_DEPRECATION_MSG)\n",
      "/home/alessandro/Documents/LocalColabFold_Files/localcolabfold/colabfold-conda/lib/python3.10/site-packages/torchtext/vocab/__init__.py:4: UserWarning: \n",
      "/!\\ IMPORTANT WARNING ABOUT TORCHTEXT STATUS /!\\ \n",
      "Torchtext is deprecated and the last released version will be 0.18 (this one). You can silence this warning by calling the following at the beginnign of your scripts: `import torchtext; torchtext.disable_torchtext_deprecation_warning()`\n",
      "  warnings.warn(torchtext._TORCHTEXT_DEPRECATION_MSG)\n",
      "/home/alessandro/Documents/LocalColabFold_Files/localcolabfold/colabfold-conda/lib/python3.10/site-packages/torchtext/functional.py:4: UserWarning: \n",
      "/!\\ IMPORTANT WARNING ABOUT TORCHTEXT STATUS /!\\ \n",
      "Torchtext is deprecated and the last released version will be 0.18 (this one). You can silence this warning by calling the following at the beginnign of your scripts: `import torchtext; torchtext.disable_torchtext_deprecation_warning()`\n",
      "  warnings.warn(torchtext._TORCHTEXT_DEPRECATION_MSG)\n"
     ]
    },
    {
     "name": "stdout",
     "output_type": "stream",
     "text": [
      "using vocab from /home/alessandro/Documents/LocalColabFold_Files/localcolabfold/colabfold-conda/lib/python3.10/site-packages/cortex/assets/protein_seq_tokenizer_32/vocab.txt\n",
      "using vocab from /home/alessandro/Documents/LocalColabFold_Files/localcolabfold/colabfold-conda/lib/python3.10/site-packages/cortex/assets/protein_seq_tokenizer_32/vocab.txt\n"
     ]
    },
    {
     "name": "stderr",
     "output_type": "stream",
     "text": [
      "/home/alessandro/Documents/LocalColabFold_Files/localcolabfold/colabfold-conda/lib/python3.10/site-packages/torch/utils/data/dataset.py:472: UserWarning: Length of split at index 1 is 0. This might result in an empty dataset.\n",
      "  warnings.warn(\n",
      "/home/alessandro/Documents/LocalColabFold_Files/localcolabfold/colabfold-conda/lib/python3.10/multiprocessing/popen_fork.py:66: RuntimeWarning: os.fork() was called. os.fork() is incompatible with multithreaded code, and JAX is multithreaded, so this will likely lead to a deadlock.\n",
      "  self.pid = os.fork()\n",
      "GPU available: True (cuda), used: False\n",
      "TPU available: False, using: 0 TPU cores\n",
      "IPU available: False, using: 0 IPUs\n",
      "HPU available: False, using: 0 HPUs\n",
      "/home/alessandro/Documents/LocalColabFold_Files/localcolabfold/colabfold-conda/lib/python3.10/site-packages/lightning/pytorch/trainer/setup.py:176: PossibleUserWarning: GPU available but not used. Set `accelerator` and `devices` using `Trainer(accelerator='gpu', devices=1)`.\n",
      "  rank_zero_warn(\n"
     ]
    }
   ],
   "source": [
    "import lightning as L\n",
    "\n",
    "# set random seed\n",
    "L.seed_everything(seed=cfg.random_seed, workers=True)\n",
    "\n",
    "# instantiate model\n",
    "model = hydra.utils.instantiate(cfg.tree)\n",
    "model.build_tree(cfg, skip_task_setup=False)\n",
    "\n",
    "# instantiate trainer, set logger\n",
    "trainer = hydra.utils.instantiate(cfg.trainer)"
   ]
  },
  {
   "cell_type": "markdown",
   "metadata": {},
   "source": [
    "### (Optional) fit a model to data\n",
    "\n",
    "If you want to run through this example quickly you can skip this step, in which case the model will be initialized with random parameters."
   ]
  },
  {
   "cell_type": "code",
   "execution_count": 4,
   "metadata": {},
   "outputs": [
    {
     "name": "stderr",
     "output_type": "stream",
     "text": [
      "Missing logger folder: /home/alessandro/Documents/GitHub_Local/cortex/tutorials/lightning_logs\n",
      "2024-06-21 10:41:36.413360: W tensorflow/compiler/tf2tensorrt/utils/py_utils.cc:38] TF-TRT Warning: Could not find TensorRT\n",
      "\n",
      "  | Name         | Type       | Params\n",
      "--------------------------------------------\n",
      "0 | root_nodes   | ModuleDict | 21.8 K\n",
      "1 | branch_nodes | ModuleDict | 256   \n",
      "2 | leaf_nodes   | ModuleDict | 1.1 K \n",
      "3 | trunk_node   | SumTrunk   | 0     \n",
      "--------------------------------------------\n",
      "23.1 K    Trainable params\n",
      "0         Non-trainable params\n",
      "23.1 K    Total params\n",
      "0.093     Total estimated model params size (MB)\n"
     ]
    },
    {
     "data": {
      "application/vnd.jupyter.widget-view+json": {
       "model_id": "8ee8a25cc8ad46cd90d0e18af5b09d3c",
       "version_major": 2,
       "version_minor": 0
      },
      "text/plain": [
       "Sanity Checking: 0it [00:00, ?it/s]"
      ]
     },
     "metadata": {},
     "output_type": "display_data"
    },
    {
     "data": {
      "application/vnd.jupyter.widget-view+json": {
       "model_id": "7548ad786248465f82e5100f59112a50",
       "version_major": 2,
       "version_minor": 0
      },
      "text/plain": [
       "Training: 0it [00:00, ?it/s]"
      ]
     },
     "metadata": {},
     "output_type": "display_data"
    },
    {
     "name": "stderr",
     "output_type": "stream",
     "text": [
      "/home/alessandro/Documents/LocalColabFold_Files/localcolabfold/colabfold-conda/lib/python3.10/multiprocessing/popen_fork.py:66: RuntimeWarning: os.fork() was called. os.fork() is incompatible with multithreaded code, and JAX is multithreaded, so this will likely lead to a deadlock.\n",
      "  self.pid = os.fork()\n"
     ]
    },
    {
     "data": {
      "application/vnd.jupyter.widget-view+json": {
       "model_id": "6b517c9266964813b12ead2bba319a00",
       "version_major": 2,
       "version_minor": 0
      },
      "text/plain": [
       "Validation: 0it [00:00, ?it/s]"
      ]
     },
     "metadata": {},
     "output_type": "display_data"
    },
    {
     "name": "stderr",
     "output_type": "stream",
     "text": [
      "/home/alessandro/Documents/LocalColabFold_Files/localcolabfold/colabfold-conda/lib/python3.10/multiprocessing/popen_fork.py:66: RuntimeWarning: os.fork() was called. os.fork() is incompatible with multithreaded code, and JAX is multithreaded, so this will likely lead to a deadlock.\n",
      "  self.pid = os.fork()\n",
      "/home/alessandro/Documents/LocalColabFold_Files/localcolabfold/colabfold-conda/lib/python3.10/multiprocessing/popen_fork.py:66: RuntimeWarning: os.fork() was called. os.fork() is incompatible with multithreaded code, and JAX is multithreaded, so this will likely lead to a deadlock.\n",
      "  self.pid = os.fork()\n"
     ]
    },
    {
     "data": {
      "application/vnd.jupyter.widget-view+json": {
       "model_id": "9a2090c0ee5e4b77a178dd5901cd7822",
       "version_major": 2,
       "version_minor": 0
      },
      "text/plain": [
       "Validation: 0it [00:00, ?it/s]"
      ]
     },
     "metadata": {},
     "output_type": "display_data"
    },
    {
     "name": "stderr",
     "output_type": "stream",
     "text": [
      "`Trainer.fit` stopped: `max_epochs=2` reached.\n"
     ]
    }
   ],
   "source": [
    "trainer.fit(\n",
    "    model,\n",
    "    train_dataloaders=model.get_dataloader(split=\"train\"),\n",
    "    val_dataloaders=model.get_dataloader(split=\"val\"),\n",
    ")"
   ]
  },
  {
   "cell_type": "markdown",
   "metadata": {},
   "source": [
    "### Set up guidance objective\n",
    "\n",
    "We can optimizer for any value function that operates on the activations of the model.\n",
    "In this example we will use Log Noisy Expected Improvement as the value function."
   ]
  },
  {
   "cell_type": "code",
   "execution_count": 5,
   "metadata": {},
   "outputs": [
    {
     "name": "stdout",
     "output_type": "stream",
     "text": [
      "==== predicting baseline point objective values ====\n",
      "tensor([[3.2174]])\n",
      "reference point: tensor([2.8957])\n"
     ]
    }
   ],
   "source": [
    "# construct guidance objective\n",
    "initial_solution = init_df[\"tokenized_seq\"].values\n",
    "acq_fn_runtime_kwargs = hydra.utils.call(\n",
    "    cfg.guidance_objective.runtime_kwargs, model=model, candidate_points=initial_solution\n",
    ")\n",
    "acq_fn = hydra.utils.instantiate(cfg.guidance_objective.static_kwargs, **acq_fn_runtime_kwargs)"
   ]
  },
  {
   "cell_type": "markdown",
   "metadata": {},
   "source": [
    "### Set up optimization constraints\n",
    "\n",
    "Typically we only want to change certain positions in the sequence.\n",
    "You can specify your own custom constraints by changing `is_mutable`.\n",
    "In this example `is_mutable` simply excludes utility tokens."
   ]
  },
  {
   "cell_type": "code",
   "execution_count": 6,
   "metadata": {},
   "outputs": [
    {
     "data": {
      "text/plain": [
       "tensor([[ True,  True,  True,  ..., False, False, False],\n",
       "        [ True,  True,  True,  ..., False, False, False],\n",
       "        [ True,  True,  True,  ..., False, False, False],\n",
       "        ...,\n",
       "        [ True,  True,  True,  ..., False, False, False],\n",
       "        [ True,  True,  True,  ..., False, False, False],\n",
       "        [ True,  True,  True,  ..., False, False, False]])"
      ]
     },
     "execution_count": 6,
     "metadata": {},
     "output_type": "execute_result"
    }
   ],
   "source": [
    "tokenizer_transform = model.root_nodes[\"protein_seq\"].eval_transform\n",
    "tokenizer = tokenizer_transform[0].tokenizer\n",
    "\n",
    "tok_idxs = tokenizer_transform(initial_solution)\n",
    "is_mutable = tokenizer.get_corruptible_mask(tok_idxs)\n",
    "is_mutable"
   ]
  },
  {
   "cell_type": "markdown",
   "metadata": {},
   "source": [
    "### Score initial solution\n",
    "\n",
    "Check the initial objective value for comparison later"
   ]
  },
  {
   "cell_type": "code",
   "execution_count": 7,
   "metadata": {},
   "outputs": [
    {
     "name": "stdout",
     "output_type": "stream",
     "text": [
      "tensor([-14.0473, -14.0473, -14.0473, -14.0473, -14.0473, -14.0473, -14.0473,\n",
      "        -14.0473, -14.0473, -14.0473, -14.0473, -14.0473, -14.0473, -14.0473,\n",
      "        -14.0473, -14.0473])\n",
      "tensor([[[3.2174],\n",
      "         [3.2174],\n",
      "         [3.2174],\n",
      "         [3.2174],\n",
      "         [3.2174],\n",
      "         [3.2174],\n",
      "         [3.2174],\n",
      "         [3.2174],\n",
      "         [3.2174],\n",
      "         [3.2174],\n",
      "         [3.2174],\n",
      "         [3.2174],\n",
      "         [3.2174],\n",
      "         [3.2174],\n",
      "         [3.2174],\n",
      "         [3.2174]]])\n"
     ]
    }
   ],
   "source": [
    "import torch\n",
    "with torch.inference_mode():\n",
    "    tree_output = model.call_from_str_array(initial_solution, corrupt_frac=0.0)\n",
    "    init_obj_vals = acq_fn.get_objective_vals(tree_output)\n",
    "    init_acq_vals = acq_fn(tree_output)\n",
    "print(init_acq_vals)\n",
    "print(init_obj_vals)"
   ]
  },
  {
   "cell_type": "markdown",
   "metadata": {},
   "source": [
    "### Run optimization"
   ]
  },
  {
   "cell_type": "code",
   "execution_count": 8,
   "metadata": {},
   "outputs": [
    {
     "name": "stdout",
     "output_type": "stream",
     "text": [
      "tensor([-14.0473, -14.0473, -14.0473, -14.0473, -14.0473, -14.0473, -14.0473,\n",
      "        -14.0473, -14.0473, -14.0473, -14.0473, -14.0473, -14.0473, -14.0473,\n",
      "        -14.0473, -14.0473])\n",
      "==== LaMBO-2 Step 1 ====\n",
      "Optimizing 16 solutions\n",
      "Selected edit positions: tensor([[165, 168, 169, 170, 171, 172, 174, 175],\n",
      "        [165, 168, 169, 170, 171, 172, 174, 175],\n",
      "        [165, 168, 169, 170, 171, 172, 174, 175],\n",
      "        [165, 168, 169, 170, 171, 172, 174, 175],\n",
      "        [165, 168, 169, 170, 171, 172, 174, 175],\n",
      "        [165, 168, 169, 170, 171, 172, 174, 175],\n",
      "        [165, 168, 169, 170, 171, 172, 174, 175],\n",
      "        [165, 168, 169, 170, 171, 172, 174, 175],\n",
      "        [165, 168, 169, 170, 171, 172, 174, 175],\n",
      "        [165, 168, 169, 170, 171, 172, 174, 175],\n",
      "        [165, 168, 169, 170, 171, 172, 174, 175],\n",
      "        [165, 168, 169, 170, 171, 172, 174, 175],\n",
      "        [165, 168, 169, 170, 171, 172, 174, 175],\n",
      "        [165, 168, 169, 170, 171, 172, 174, 175],\n",
      "        [165, 168, 169, 170, 171, 172, 174, 175],\n",
      "        [165, 168, 169, 170, 171, 172, 174, 175]])\n",
      "\n",
      "\n",
      "Feasible samples: 16/16\n",
      "-10.553008079528809 4.074188232421875 5.432235240936279 4.841066765948199e-05 0.1052297055721283\n",
      "Feasible samples: 16/16\n",
      "-10.553008079528809 3.8005056381225586 5.0672478675842285 0.0002783037780318409 0.11060643941164017\n",
      "Feasible samples: 16/16\n",
      "-10.553008079528809 3.6035521030426025 4.804356098175049 0.0011395345209166408 0.11847017705440521\n",
      "Feasible samples: 16/16\n",
      "-10.553008079528809 3.4508800506591797 4.600224018096924 0.00284795300103724 0.1286495476961136\n",
      "==== LaMBO-2 Step 2 ====\n",
      "Optimizing 16 solutions\n",
      "Selected edit positions: tensor([[165, 168, 169, 170, 171, 172, 174, 175],\n",
      "        [165, 168, 169, 170, 171, 172, 174, 175],\n",
      "        [165, 168, 169, 170, 171, 172, 174, 175],\n",
      "        [165, 168, 169, 170, 171, 172, 174, 175],\n",
      "        [165, 168, 169, 170, 171, 172, 174, 175],\n",
      "        [ 23,  38,  67,  78,  82,  96, 152, 165],\n",
      "        [165, 168, 169, 170, 171, 172, 174, 175],\n",
      "        [165, 168, 169, 170, 171, 172, 174, 175],\n",
      "        [165, 168, 169, 170, 171, 172, 174, 175],\n",
      "        [165, 168, 169, 170, 171, 172, 174, 175],\n",
      "        [165, 168, 169, 170, 171, 172, 174, 175],\n",
      "        [165, 168, 169, 170, 171, 172, 174, 175],\n",
      "        [165, 168, 169, 170, 171, 172, 174, 175],\n",
      "        [165, 168, 169, 170, 171, 172, 174, 175],\n",
      "        [165, 168, 169, 170, 171, 172, 174, 175],\n",
      "        [165, 168, 169, 170, 171, 172, 174, 175]])\n",
      "\n",
      "\n",
      "Feasible samples: 16/16\n",
      "-10.553008079528809 4.3458709716796875 5.7944793701171875 4.606035508913919e-05 0.08678095787763596\n",
      "Feasible samples: 16/16\n",
      "-10.553008079528809 4.048257827758789 5.3975934982299805 0.0002522137947380543 0.09178466349840164\n",
      "Feasible samples: 16/16\n",
      "-10.553008079528809 3.842419385910034 5.1228790283203125 0.0010408188682049513 0.0989779531955719\n",
      "Feasible samples: 16/16\n",
      "-10.553008079528809 3.68573260307312 4.913435935974121 0.0026222639717161655 0.10815833508968353\n",
      "==== LaMBO-2 Step 3 ====\n",
      "Optimizing 16 solutions\n",
      "Selected edit positions: tensor([[165, 168, 169, 170, 171, 172, 174, 175],\n",
      "        [165, 168, 169, 170, 171, 172, 174, 175],\n",
      "        [165, 168, 169, 170, 171, 172, 174, 175],\n",
      "        [165, 168, 169, 170, 171, 172, 174, 175],\n",
      "        [  0,   4,  11,  73,  98, 104, 121, 158],\n",
      "        [  3,   4,  23,  34, 128, 130, 152, 231],\n",
      "        [165, 168, 169, 170, 171, 172, 174, 175],\n",
      "        [  9,  33,  54,  96, 128, 168, 207, 232],\n",
      "        [165, 168, 169, 170, 171, 172, 174, 175],\n",
      "        [165, 168, 169, 170, 171, 172, 174, 175],\n",
      "        [165, 168, 169, 170, 171, 172, 174, 175],\n",
      "        [ 43,  56,  97, 104, 171, 186, 232, 236],\n",
      "        [165, 168, 169, 170, 171, 172, 174, 175],\n",
      "        [ 31,  40,  43,  70, 126, 140, 153, 227],\n",
      "        [165, 168, 169, 170, 171, 172, 174, 175],\n",
      "        [165, 168, 169, 170, 171, 172, 174, 175]])\n",
      "\n",
      "\n",
      "Feasible samples: 16/16\n",
      "-10.553008079528809 4.621323108673096 6.161751747131348 3.612089858506806e-05 0.07470754534006119\n",
      "Feasible samples: 16/16\n",
      "-10.553008079528809 4.293241024017334 5.7242431640625 0.00023523016716353595 0.07955673336982727\n",
      "Feasible samples: 16/16\n",
      "-10.553008079528809 4.0884294509887695 5.450908184051514 0.000993467983789742 0.08640418201684952\n",
      "Feasible samples: 16/16\n",
      "-6.032303810119629 3.935490846633911 5.246488094329834 0.0024998981971293688 0.09494740515947342\n",
      "==== LaMBO-2 Step 4 ====\n",
      "Optimizing 16 solutions\n",
      "Selected edit positions: tensor([[165, 168, 169, 170, 171, 172, 174, 175],\n",
      "        [165, 168, 169, 170, 171, 172, 174, 175],\n",
      "        [165, 168, 169, 170, 171, 172, 174, 175],\n",
      "        [  2,   4,   8,   9,  30, 163, 187, 222],\n",
      "        [ 78,  88,  98, 110, 177, 194, 216, 232],\n",
      "        [ 92, 103, 121, 122, 165, 172, 211, 231],\n",
      "        [  1,   9,  92,  96, 112, 152, 169, 181],\n",
      "        [ 19,  54, 126, 128, 152, 189, 213, 228],\n",
      "        [165, 168, 169, 170, 171, 172, 174, 175],\n",
      "        [165, 168, 169, 170, 171, 172, 174, 175],\n",
      "        [165, 168, 169, 170, 171, 172, 174, 175],\n",
      "        [  5,  22,  52,  87, 106, 114, 181, 188],\n",
      "        [ 18,  28,  32,  34,  51, 155, 225, 231],\n",
      "        [ 12, 107, 161, 167, 179, 193, 194, 203],\n",
      "        [ 92,  93,  96, 159, 165, 171, 181, 209],\n",
      "        [  0,   5,  20,  56,  84,  88, 158, 175]])\n",
      "\n",
      "\n",
      "Feasible samples: 16/16\n",
      "-6.032303810119629 4.8974785804748535 6.529964447021484 2.10660946322605e-05 0.06753479689359665\n",
      "Feasible samples: 16/16\n",
      "-6.032303810119629 4.496159076690674 5.994808673858643 0.00021060534345451742 0.07077863812446594\n",
      "Feasible samples: 16/16\n",
      "-6.032303810119629 4.267449855804443 5.6896443367004395 0.0008659340091980994 0.07570300251245499\n",
      "Feasible samples: 16/16\n",
      "-6.032303810119629 4.103414535522461 5.4705328941345215 0.00206010858528316 0.08179506659507751\n",
      "==== LaMBO-2 Step 5 ====\n",
      "Optimizing 16 solutions\n",
      "Selected edit positions: tensor([[165, 168, 169, 170, 171, 172, 174, 175],\n",
      "        [165, 168, 169, 170, 171, 172, 174, 175],\n",
      "        [165, 168, 169, 170, 171, 172, 174, 175],\n",
      "        [ 10,  93, 129, 169, 181, 202, 218, 226],\n",
      "        [ 43,  75, 140, 175, 179, 211, 225, 227],\n",
      "        [ 19,  34,  40,  44, 127, 182, 226, 231],\n",
      "        [ 19,  87, 126, 130, 175, 202, 204, 236],\n",
      "        [  5,  15,  66, 127, 159, 160, 187, 222],\n",
      "        [165, 168, 169, 170, 171, 172, 174, 175],\n",
      "        [165, 168, 169, 170, 171, 172, 174, 175],\n",
      "        [165, 168, 169, 170, 171, 172, 174, 175],\n",
      "        [ 28,  64,  73,  80,  94, 152, 155, 167],\n",
      "        [ 28,  45, 127, 169, 181, 202, 212, 216],\n",
      "        [ 12, 138, 159, 171, 193, 198, 213, 222],\n",
      "        [ 92, 108, 112, 127, 129, 165, 171, 207],\n",
      "        [  9,  25,  28,  35,  73, 164, 181, 218]])\n",
      "\n",
      "\n",
      "Feasible samples: 16/16\n",
      "-5.45815372467041 5.760913848876953 7.681212425231934 1.903829070215579e-05 0.05107314884662628\n",
      "Feasible samples: 16/16\n",
      "-5.45815372467041 4.6218037605285645 6.162359714508057 0.00013495204620994627 0.05275687947869301\n",
      "Feasible samples: 16/16\n",
      "-5.45815372467041 4.283616542816162 5.71130895614624 0.0005405152915045619 0.055568449199199677\n",
      "Feasible samples: 16/16\n",
      "-5.45815372467041 4.120179176330566 5.493133068084717 0.0013183337869122624 0.05930280685424805\n",
      "==== LaMBO-2 Step 6 ====\n",
      "Optimizing 16 solutions\n",
      "Selected edit positions: tensor([[165, 168, 169, 170, 171, 172, 174, 175],\n",
      "        [165, 168, 169, 170, 171, 172, 174, 175],\n",
      "        [165, 168, 169, 170, 171, 172, 174, 175],\n",
      "        [ 53,  80, 135, 159, 165, 197, 222, 225],\n",
      "        [ 27,  43,  81, 121, 152, 181, 213, 232],\n",
      "        [ 24,  28,  51, 100, 118, 153, 184, 198],\n",
      "        [ 32,  70, 124, 138, 141, 165, 169, 175],\n",
      "        [  6,  19,  32, 137, 158, 187, 209, 212],\n",
      "        [165, 168, 169, 170, 171, 172, 174, 175],\n",
      "        [165, 168, 169, 170, 171, 172, 174, 175],\n",
      "        [165, 168, 169, 170, 171, 172, 174, 175],\n",
      "        [ 31,  72, 113, 129, 156, 198, 211, 224],\n",
      "        [  2,  18,  19,  32,  67,  82, 149, 173],\n",
      "        [  7,  98, 116, 149, 161, 164, 178, 190],\n",
      "        [  6, 111, 115, 127, 155, 174, 207, 221],\n",
      "        [ 43,  77,  85, 116, 119, 196, 197, 199]])\n",
      "\n",
      "\n",
      "Feasible samples: 16/16\n",
      "-5.45815372467041 5.248995780944824 6.998650550842285 3.1359391869045794e-05 0.05789189413189888\n",
      "Feasible samples: 16/16\n",
      "-5.45815372467041 4.837642669677734 6.450136661529541 0.00016107696865219623 0.05979878082871437\n",
      "Feasible samples: 16/16\n",
      "-5.45815372467041 4.64378023147583 6.191491603851318 0.0006465848418883979 0.06313000619411469\n",
      "Feasible samples: 16/16\n",
      "-5.418367862701416 4.501306533813477 6.001204013824463 0.0016139944782480597 0.06773258000612259\n",
      "==== LaMBO-2 Step 7 ====\n",
      "Optimizing 16 solutions\n",
      "Selected edit positions: tensor([[165, 168, 169, 170, 171, 172, 174, 175],\n",
      "        [165, 168, 169, 170, 171, 172, 174, 175],\n",
      "        [ 29,  34,  37,  45,  67, 137, 140, 218],\n",
      "        [ 68,  70, 108, 111, 112, 128, 211, 235],\n",
      "        [  4,  54,  76,  87, 141, 147, 152, 170],\n",
      "        [ 50,  61,  85,  98, 128, 140, 174, 209],\n",
      "        [ 52, 105, 118, 124, 151, 164, 165, 185],\n",
      "        [ 39,  62,  80, 101, 111, 122, 173, 177],\n",
      "        [165, 168, 169, 170, 171, 172, 174, 175],\n",
      "        [165, 168, 169, 170, 171, 172, 174, 175],\n",
      "        [165, 168, 169, 170, 171, 172, 174, 175],\n",
      "        [ 15,  43,  44,  66,  69,  87, 159, 227],\n",
      "        [ 10,  22,  50, 112, 141, 193, 204, 235],\n",
      "        [  7,  52,  92, 109, 120, 122, 187, 216],\n",
      "        [  9,  62,  77,  83,  92, 109, 152, 212],\n",
      "        [ 73, 117, 171, 190, 198, 204, 222, 232]])\n",
      "\n",
      "\n",
      "Feasible samples: 16/16\n",
      "-5.418367862701416 4.819517135620117 6.426013946533203 2.5760069547686726e-05 0.07379493117332458\n",
      "Feasible samples: 16/16\n",
      "-5.264801025390625 4.544775485992432 6.059650421142578 0.00014995737001299858 0.07481729984283447\n",
      "Feasible samples: 16/16\n",
      "-5.264801025390625 4.357138633728027 5.809327602386475 0.0005727253155782819 0.07715807855129242\n",
      "Feasible samples: 16/16\n",
      "-5.264801025390625 4.213413715362549 5.617432117462158 0.0013588856672868133 0.08065005391836166\n",
      "==== LaMBO-2 Step 8 ====\n",
      "Optimizing 16 solutions\n",
      "Selected edit positions: tensor([[165, 168, 169, 170, 171, 172, 174, 175],\n",
      "        [165, 168, 169, 170, 171, 172, 174, 175],\n",
      "        [ 49,  53, 102, 107, 132, 189, 211, 216],\n",
      "        [ 13, 107, 108, 133, 143, 151, 159, 229],\n",
      "        [ 34,  62,  74,  92, 108, 127, 160, 227],\n",
      "        [ 35,  70,  98, 127, 131, 148, 195, 224],\n",
      "        [ 11,  15,  43, 124, 163, 167, 175, 235],\n",
      "        [ 51,  56,  82,  90,  99, 114, 180, 220],\n",
      "        [  7,  15,  68, 158, 167, 172, 209, 230],\n",
      "        [165, 168, 169, 170, 171, 172, 174, 175],\n",
      "        [165, 168, 169, 170, 171, 172, 174, 175],\n",
      "        [  3,  26,  60,  82, 122, 140, 179, 202],\n",
      "        [ 39,  87, 104, 112, 192, 214, 216, 234],\n",
      "        [ 30,  75,  91, 126, 127, 190, 198, 235],\n",
      "        [ 19,  81, 115, 124, 166, 195, 206, 224],\n",
      "        [ 42,  50,  64, 100, 123, 154, 161, 225]])\n",
      "\n",
      "\n",
      "Feasible samples: 16/16\n",
      "-5.264801025390625 4.855964183807373 6.474610328674316 2.574545578681864e-05 0.05172281339764595\n",
      "Feasible samples: 16/16\n",
      "-5.264801025390625 4.637791156768799 6.1836724281311035 0.00014673234545625746 0.05308673903346062\n",
      "Feasible samples: 16/16\n",
      "-5.264801025390625 4.485096454620361 5.979944229125977 0.0005529170739464462 0.0556737519800663\n",
      "Feasible samples: 16/16\n",
      "-5.264801025390625 4.3652544021606445 5.819911003112793 0.0012860068818554282 0.059236928820610046\n"
     ]
    }
   ],
   "source": [
    "\n",
    "optimizer = hydra.utils.instantiate(\n",
    "    cfg.optim,\n",
    "    params=tok_idxs,\n",
    "    is_mutable=is_mutable,\n",
    "    model=model,\n",
    "    objective=acq_fn,\n",
    "    constraint_fn=None,\n",
    ")\n",
    "for _ in range(cfg.num_steps):\n",
    "    optimizer.step()\n",
    "new_designs = optimizer.get_best_solutions()"
   ]
  },
  {
   "cell_type": "markdown",
   "metadata": {},
   "source": [
    "### Score final solution\n",
    "\n",
    "Let's see how much we improved the objective value (in this example, the acquisition value)!"
   ]
  },
  {
   "cell_type": "code",
   "execution_count": 9,
   "metadata": {},
   "outputs": [
    {
     "data": {
      "text/plain": [
       "tensor([[[3.2174],\n",
       "         [3.2174],\n",
       "         [3.2192],\n",
       "         [3.2207],\n",
       "         [3.2181],\n",
       "         [3.2187],\n",
       "         [3.2182],\n",
       "         [3.2206],\n",
       "         [3.2183],\n",
       "         [3.2174],\n",
       "         [3.2174],\n",
       "         [3.2190],\n",
       "         [3.2188],\n",
       "         [3.2202],\n",
       "         [3.2182],\n",
       "         [3.2195]]])"
      ]
     },
     "execution_count": 9,
     "metadata": {},
     "output_type": "execute_result"
    }
   ],
   "source": [
    "with torch.inference_mode():\n",
    "    tree_output = model.call_from_str_array(new_designs[\"protein_seq\"].values, corrupt_frac=0.0)\n",
    "    final_obj_vals = acq_fn.get_objective_vals(tree_output)\n",
    "final_obj_vals"
   ]
  },
  {
   "cell_type": "code",
   "execution_count": 10,
   "metadata": {},
   "outputs": [
    {
     "data": {
      "text/plain": [
       "<matplotlib.legend.Legend at 0x7fb38834b6d0>"
      ]
     },
     "execution_count": 10,
     "metadata": {},
     "output_type": "execute_result"
    },
    {
     "data": {
      "image/png": "[encoded data removed]",
      "text/plain": [
       "<Figure size 640x480 with 1 Axes>"
      ]
     },
     "metadata": {},
     "output_type": "display_data"
    }
   ],
   "source": [
    "history = optimizer._buffer\n",
    "\n",
    "med_obj_val = history.groupby(\"iteration\").obj_val.median()\n",
    "\n",
    "import matplotlib.pyplot as plt\n",
    "import seaborn as sns\n",
    "sns.set_theme(style=\"whitegrid\", font_scale=1.75)\n",
    "\n",
    "plt.plot(med_obj_val)\n",
    "xlim = plt.xlim()\n",
    "plt.hlines(init_acq_vals.median(), *xlim, label=\"Initial Value\", color=\"black\", linestyle=\"--\")\n",
    "plt.xlabel(\"Diffusion Iteration\")\n",
    "plt.ylabel(\"Median Acq. Value\")\n",
    "plt.legend(loc=\"center right\")"
   ]
  },
  {
   "cell_type": "markdown",
   "metadata": {},
   "source": [
    "### Visualize the predicted fluorescence of the new sequences"
   ]
  },
  {
   "cell_type": "code",
   "execution_count": 11,
   "metadata": {},
   "outputs": [
    {
     "data": {
      "text/plain": [
       "<matplotlib.legend.Legend at 0x7fb3882464a0>"
      ]
     },
     "execution_count": 11,
     "metadata": {},
     "output_type": "execute_result"
    },
    {
     "data": {
      "image/png": "[encoded data removed]",
      "text/plain": [
       "<Figure size 640x480 with 1 Axes>"
      ]
     },
     "metadata": {},
     "output_type": "display_data"
    }
   ],
   "source": [
    "sns.kdeplot(final_obj_vals.view(-1), fill=True, alpha=0.5, cut=0)\n",
    "ylim = plt.ylim()\n",
    "plt.vlines(init_obj_vals[0], *ylim, color=\"black\", linestyle=\"--\", label=\"Initial Value\")\n",
    "plt.xlabel(\"Predicted Log Fluorescence\")\n",
    "plt.legend()"
   ]
  }
 ],
 "metadata": {
  "kernelspec": {
   "display_name": "cortex-public",
   "language": "python",
   "name": "python3"
  },
  "language_info": {
   "codemirror_mode": {
    "name": "ipython",
    "version": 3
   },
   "file_extension": ".py",
   "mimetype": "text/x-python",
   "name": "python",
   "nbconvert_exporter": "python",
   "pygments_lexer": "ipython3",
   "version": "3.10.12"
  }
 },
 "nbformat": 4,
 "nbformat_minor": 2
}
